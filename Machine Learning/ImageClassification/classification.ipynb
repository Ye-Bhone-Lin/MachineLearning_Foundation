{
 "cells": [
  {
   "cell_type": "code",
   "execution_count": 1,
   "id": "866c697c",
   "metadata": {},
   "outputs": [
    {
     "name": "stdout",
     "output_type": "stream",
     "text": [
      "Collecting scikit-image\n",
      "  Downloading scikit_image-0.25.2-cp311-cp311-win_amd64.whl.metadata (14 kB)\n",
      "Requirement already satisfied: numpy>=1.24 in d:\\anaconda3\\envs\\langchain\\lib\\site-packages (from scikit-image) (1.26.4)\n",
      "Requirement already satisfied: scipy>=1.11.4 in d:\\anaconda3\\envs\\langchain\\lib\\site-packages (from scikit-image) (1.15.1)\n",
      "Requirement already satisfied: networkx>=3.0 in d:\\anaconda3\\envs\\langchain\\lib\\site-packages (from scikit-image) (3.4.2)\n",
      "Requirement already satisfied: pillow>=10.1 in d:\\anaconda3\\envs\\langchain\\lib\\site-packages (from scikit-image) (11.1.0)\n",
      "Collecting imageio!=2.35.0,>=2.33 (from scikit-image)\n",
      "  Downloading imageio-2.37.0-py3-none-any.whl.metadata (5.2 kB)\n",
      "Collecting tifffile>=2022.8.12 (from scikit-image)\n",
      "  Downloading tifffile-2025.5.26-py3-none-any.whl.metadata (32 kB)\n",
      "Requirement already satisfied: packaging>=21 in d:\\anaconda3\\envs\\langchain\\lib\\site-packages (from scikit-image) (24.2)\n",
      "Collecting lazy-loader>=0.4 (from scikit-image)\n",
      "  Downloading lazy_loader-0.4-py3-none-any.whl.metadata (7.6 kB)\n",
      "Downloading scikit_image-0.25.2-cp311-cp311-win_amd64.whl (12.8 MB)\n",
      "   ---------------------------------------- 0.0/12.8 MB ? eta -:--:--\n",
      "   - -------------------------------------- 0.5/12.8 MB 4.2 MB/s eta 0:00:03\n",
      "   --- ------------------------------------ 1.0/12.8 MB 3.6 MB/s eta 0:00:04\n",
      "   ----- ---------------------------------- 1.8/12.8 MB 3.4 MB/s eta 0:00:04\n",
      "   -------- ------------------------------- 2.6/12.8 MB 3.5 MB/s eta 0:00:03\n",
      "   ----------- ---------------------------- 3.7/12.8 MB 3.9 MB/s eta 0:00:03\n",
      "   ------------- -------------------------- 4.5/12.8 MB 3.9 MB/s eta 0:00:03\n",
      "   ------------------ --------------------- 5.8/12.8 MB 4.3 MB/s eta 0:00:02\n",
      "   -------------------- ------------------- 6.6/12.8 MB 4.4 MB/s eta 0:00:02\n",
      "   ------------------------ --------------- 7.9/12.8 MB 4.4 MB/s eta 0:00:02\n",
      "   --------------------------- ------------ 8.7/12.8 MB 4.4 MB/s eta 0:00:01\n",
      "   ----------------------------- ---------- 9.4/12.8 MB 4.3 MB/s eta 0:00:01\n",
      "   -------------------------------- ------- 10.5/12.8 MB 4.3 MB/s eta 0:00:01\n",
      "   --------------------------------- ------ 10.7/12.8 MB 4.2 MB/s eta 0:00:01\n",
      "   ----------------------------------- ---- 11.3/12.8 MB 4.0 MB/s eta 0:00:01\n",
      "   ------------------------------------ --- 11.8/12.8 MB 3.9 MB/s eta 0:00:01\n",
      "   -------------------------------------- - 12.3/12.8 MB 3.9 MB/s eta 0:00:01\n",
      "   ---------------------------------------- 12.8/12.8 MB 3.7 MB/s eta 0:00:00\n",
      "Downloading imageio-2.37.0-py3-none-any.whl (315 kB)\n",
      "Downloading lazy_loader-0.4-py3-none-any.whl (12 kB)\n",
      "Downloading tifffile-2025.5.26-py3-none-any.whl (230 kB)\n",
      "Installing collected packages: tifffile, lazy-loader, imageio, scikit-image\n",
      "Successfully installed imageio-2.37.0 lazy-loader-0.4 scikit-image-0.25.2 tifffile-2025.5.26\n"
     ]
    },
    {
     "name": "stderr",
     "output_type": "stream",
     "text": [
      "WARNING: Ignoring invalid distribution ~penai (D:\\anaconda3\\envs\\langchain\\Lib\\site-packages)\n",
      "WARNING: Ignoring invalid distribution ~penai (D:\\anaconda3\\envs\\langchain\\Lib\\site-packages)\n",
      "WARNING: Ignoring invalid distribution ~penai (D:\\anaconda3\\envs\\langchain\\Lib\\site-packages)\n"
     ]
    }
   ],
   "source": [
    "!pip install scikit-image"
   ]
  },
  {
   "cell_type": "code",
   "execution_count": 5,
   "id": "e05ea1e3",
   "metadata": {},
   "outputs": [
    {
     "data": {
      "text/plain": [
       "'d:\\\\MachineLearning_Foundation\\\\Machine Learning\\\\ImageClassification'"
      ]
     },
     "execution_count": 5,
     "metadata": {},
     "output_type": "execute_result"
    }
   ],
   "source": [
    "import os\n",
    "\n",
    "os.getcwd()"
   ]
  },
  {
   "cell_type": "code",
   "execution_count": 6,
   "id": "46bc5e2b",
   "metadata": {},
   "outputs": [],
   "source": [
    "from skimage.io import imread\n",
    "from skimage.transform import resize\n",
    "import numpy as np\n",
    "from sklearn.model_selection import train_test_split\n",
    "from sklearn.model_selection import GridSearchCV\n",
    "from sklearn.svm import SVC\n",
    "from sklearn.metrics import accuracy_score\n",
    "\n",
    "\n",
    "input_dir = os.getcwd() + \"//data\"\n",
    "categories = ['dog', 'cat']\n",
    "\n",
    "data = []\n",
    "labels = []\n",
    "for category_idx, category in enumerate(categories):\n",
    "    for file in os.listdir(os.path.join(input_dir, category)):\n",
    "        img_path = os.path.join(input_dir, category, file)\n",
    "        img = imread(img_path)\n",
    "        img = resize(img, (15, 15))\n",
    "        data.append(img.flatten())\n",
    "        labels.append(category_idx)"
   ]
  },
  {
   "cell_type": "code",
   "execution_count": 7,
   "id": "399641c5",
   "metadata": {},
   "outputs": [],
   "source": [
    "data = np.asarray(data)\n",
    "labels = np.asarray(labels)\n",
    "\n",
    "x_train, x_test, y_train, y_test = train_test_split(data, labels, test_size=0.2, shuffle=True, stratify=labels)\n",
    "\n",
    "classifier = SVC()\n",
    "\n",
    "parameters = [{'gamma': [0.01, 0.001, 0.0001], 'C': [1, 10, 100, 1000]}]\n",
    "\n",
    "grid_search = GridSearchCV(classifier, parameters)\n",
    "\n",
    "grid_search.fit(x_train, y_train)\n",
    "\n",
    "best_estimator = grid_search.best_estimator_\n",
    "\n",
    "y_prediction = best_estimator.predict(x_test)\n",
    "\n",
    "score = accuracy_score(y_prediction, y_test)\n"
   ]
  },
  {
   "cell_type": "code",
   "execution_count": 8,
   "id": "9061f165",
   "metadata": {},
   "outputs": [
    {
     "data": {
      "text/plain": [
       "0.5"
      ]
     },
     "execution_count": 8,
     "metadata": {},
     "output_type": "execute_result"
    }
   ],
   "source": [
    "score"
   ]
  },
  {
   "cell_type": "code",
   "execution_count": null,
   "id": "503494aa",
   "metadata": {},
   "outputs": [],
   "source": []
  }
 ],
 "metadata": {
  "kernelspec": {
   "display_name": "langchain",
   "language": "python",
   "name": "python3"
  },
  "language_info": {
   "codemirror_mode": {
    "name": "ipython",
    "version": 3
   },
   "file_extension": ".py",
   "mimetype": "text/x-python",
   "name": "python",
   "nbconvert_exporter": "python",
   "pygments_lexer": "ipython3",
   "version": "3.11.11"
  }
 },
 "nbformat": 4,
 "nbformat_minor": 5
}
